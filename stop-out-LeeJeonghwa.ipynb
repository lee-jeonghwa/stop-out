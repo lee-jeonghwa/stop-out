{
 "cells": [
  {
   "cell_type": "markdown",
   "metadata": {},
   "source": [
    "# 파이썬\n",
    "### 1. 다음 리스트를 사용해 아래와 같은 문자열을 만들어 `girlsday_info`변수에 할당한 후, 콘솔에 내용을 출력하시오."
   ]
  },
  {
   "cell_type": "code",
   "execution_count": 2,
   "metadata": {},
   "outputs": [
    {
     "name": "stdout",
     "output_type": "stream",
     "text": [
      "- 민아\n",
      "- 혜리\n",
      "- 유라\n",
      "- 소진\n",
      "\n"
     ]
    }
   ],
   "source": [
    "girlsday_members = ['민아', '혜리', '유라', '소진']\n",
    "\n",
    "girlsday_info =''\n",
    "for member in girlsday_members:\n",
    "    girlsday_info += ('- '+ member +'\\n')\n",
    "    \n",
    "    \n",
    "print(girlsday_info)"
   ]
  },
  {
   "cell_type": "markdown",
   "metadata": {},
   "source": [
    "### 2. `fruit_dict`객체를 사용해서 아래와 같은 결과값을 갖는 문자열을 만들어 `fruit_info`변수에 할당 한 후, 콘솔에 내용을 출력하시오."
   ]
  },
  {
   "cell_type": "code",
   "execution_count": 4,
   "metadata": {},
   "outputs": [],
   "source": [
    "fruit_dict = {\n",
    "    'red': 'apple',\n",
    "    'yellow': 'banana',\n",
    "    'green': 'melon',\n",
    "}"
   ]
  },
  {
   "cell_type": "code",
   "execution_count": 13,
   "metadata": {},
   "outputs": [
    {
     "name": "stdout",
     "output_type": "stream",
     "text": [
      "[1] RED: Apple\n",
      "[2] YELLOW: Banana\n",
      "[3] GREEN: Melon\n"
     ]
    }
   ],
   "source": [
    "for index, (color, fruit) in enumerate(fruit_dict.items(), start=1):\n",
    "    print(f'[{index}] {color.upper()}: {fruit.title()}')"
   ]
  },
  {
   "cell_type": "markdown",
   "metadata": {},
   "source": [
    "### 3. list의 `copy()`메서드가 하는 일과, `copy()`를 사용하지 않았을 때 발생할 수 있는 오류에 대한 예제 코드를 작성하시오."
   ]
  },
  {
   "cell_type": "markdown",
   "metadata": {},
   "source": [
    "copy()를 사용하지 않고 a=b로 값을 지정하면 a, b 모두 같은 메모리를 가르키게 된다. 따라서 a또는 b의 값을 수정하게 되면 a, b모두 영향을 받게 된다. copy()를 사용하는 경우 값을 다른 메모리에 지정하게 되므로 서로 다른 객체를 가르키게 된다. 아래에서 a.copy()를 이용하여 값을 할당한 c는 a의 값 변화에 영향을 받지 않지만, a=b로 할당한 b는 a와 가르키는 객체가 같으므로 a가 변화해도 b가 변화해도 같이 영향을 받는다."
   ]
  },
  {
   "cell_type": "code",
   "execution_count": 16,
   "metadata": {},
   "outputs": [
    {
     "name": "stdout",
     "output_type": "stream",
     "text": [
      "a = [1, 2, 3], b=[1, 2, 3], c=[1, 2, 3]\n",
      "a = [0, 2, 3], b=[0, 2, 3], c=[1, 2, 3]\n",
      "a = [0, 10, 3], b=[0, 10, 3], c=[1, 2, 3]\n",
      "a = [0, 10, 3], b=[0, 10, 3], c=[3, 2, 3]\n"
     ]
    }
   ],
   "source": [
    "a = [ 1, 2, 3]\n",
    "b = a\n",
    "c = a.copy()\n",
    "\n",
    "print(f'a = {a}, b={b}, c={c}')\n",
    "\n",
    "a[0]=0\n",
    "print(f'a = {a}, b={b}, c={c}')\n",
    "\n",
    "b[1]=10    \n",
    "print(f'a = {a}, b={b}, c={c}')\n",
    "\n",
    "c[0]= 3\n",
    "print(f'a = {a}, b={b}, c={c}')"
   ]
  },
  {
   "cell_type": "markdown",
   "metadata": {},
   "source": [
    "### 4. 1에서 30까지의 숫자 중, 3부터 시작해서 4번째마다의 숫자를 가지는 리스트를 생성하시오."
   ]
  },
  {
   "cell_type": "code",
   "execution_count": 22,
   "metadata": {},
   "outputs": [
    {
     "name": "stdout",
     "output_type": "stream",
     "text": [
      "[3, 7, 11, 15, 19, 23, 27]\n"
     ]
    }
   ],
   "source": [
    "m_list = [n for n in range(3,30,4)]\n",
    "\n",
    "print(m_list)"
   ]
  },
  {
   "cell_type": "markdown",
   "metadata": {},
   "source": [
    "### 5. dict형 객체인 `obj`가 있다고 할 때, `obj['key']`와 `obj.get('key')`의 차이를 서술하시오 \n",
    "\n",
    "둘다 'key'라는 이름을 가진 `key`에 매치되는 `value`값을 가져온다. 하지만 만약 'key'라는 `key`가 존재하지 않는 다면 \n",
    "`obj['key']`는 KeyError를 발생시키고 `obj.get('key')`는 `None'을 반환한다. \n",
    "또한 `obj.get('key', 'no_key')` 같이 만약  'key'라는 `key`가 존재하지 않는 다면 'on_key'를 반환하게 하는 옵션도 사용할 수 있다"
   ]
  },
  {
   "cell_type": "code",
   "execution_count": 29,
   "metadata": {},
   "outputs": [
    {
     "name": "stdout",
     "output_type": "stream",
     "text": [
      "1\n",
      "1\n",
      "None\n"
     ]
    },
    {
     "ename": "KeyError",
     "evalue": "'kkey'",
     "output_type": "error",
     "traceback": [
      "\u001b[0;31m---------------------------------------------------------------------------\u001b[0m",
      "\u001b[0;31mKeyError\u001b[0m                                  Traceback (most recent call last)",
      "\u001b[0;32m<ipython-input-29-62edbfc9ba74>\u001b[0m in \u001b[0;36m<module>\u001b[0;34m\u001b[0m\n\u001b[1;32m      4\u001b[0m \u001b[0mprint\u001b[0m\u001b[0;34m(\u001b[0m\u001b[0mobj\u001b[0m\u001b[0;34m.\u001b[0m\u001b[0mget\u001b[0m\u001b[0;34m(\u001b[0m\u001b[0;34m'key'\u001b[0m\u001b[0;34m)\u001b[0m\u001b[0;34m)\u001b[0m\u001b[0;34m\u001b[0m\u001b[0m\n\u001b[1;32m      5\u001b[0m \u001b[0mprint\u001b[0m\u001b[0;34m(\u001b[0m\u001b[0mobj\u001b[0m\u001b[0;34m.\u001b[0m\u001b[0mget\u001b[0m\u001b[0;34m(\u001b[0m\u001b[0;34m'kkey'\u001b[0m\u001b[0;34m)\u001b[0m\u001b[0;34m)\u001b[0m\u001b[0;34m\u001b[0m\u001b[0m\n\u001b[0;32m----> 6\u001b[0;31m \u001b[0mprint\u001b[0m\u001b[0;34m(\u001b[0m\u001b[0mobj\u001b[0m\u001b[0;34m[\u001b[0m\u001b[0;34m'kkey'\u001b[0m\u001b[0;34m]\u001b[0m\u001b[0;34m)\u001b[0m\u001b[0;34m\u001b[0m\u001b[0m\n\u001b[0m",
      "\u001b[0;31mKeyError\u001b[0m: 'kkey'"
     ]
    }
   ],
   "source": [
    "obj = {'key':1}\n",
    "\n",
    "print(obj['key'])\n",
    "print(obj.get('key'))\n",
    "print(obj.get('kkey'))\n",
    "print(obj['kkey'])"
   ]
  },
  {
   "cell_type": "markdown",
   "metadata": {},
   "source": [
    "### 6. 튜플 언패킹에 대해 서술하고, `pokemon_info` 객체를 순회할 때 튜플 언패킹을 사용하는 예제 코드를 작성하시오.\n",
    "\n",
    "튜플안의 요소를 변수 여러개에 한번에 할당하는 것을 말한다. 예를 들어 튜플에 3의 요소가 있다면 \n",
    "`exam=(1, 2, 3)`이를 \n",
    "```\n",
    "a = exam[0]\n",
    "b = exam[1]\n",
    "c = exam[2]\n",
    "```\n",
    "이렇게 할 수 도 있지만\n",
    "\n",
    "```\n",
    "a, b, c = exam\n",
    "```\n",
    "이렇게 표현해서 위의 것고 동일한 결과를 낼 수 있다. "
   ]
  },
  {
   "cell_type": "code",
   "execution_count": 33,
   "metadata": {},
   "outputs": [
    {
     "name": "stdout",
     "output_type": "stream",
     "text": [
      "이름:피카츄 - 속성:전기 타입\n",
      "이름:파이리 - 속성:불 타입\n",
      "이름:꼬부기 - 속성:물 타입\n",
      "이름:이상해씨 - 속성:풀 타입\n"
     ]
    }
   ],
   "source": [
    "pokemon_info = [\n",
    "    ('피카츄', '전기 타입'),\n",
    "    ('파이리', '불 타입'),\n",
    "    ('꼬부기', '물 타입'),\n",
    "    ('이상해씨', '풀 타입'),\n",
    "]\n",
    "\n",
    "for name, p_type in pokemon_info:\n",
    "    print(f'이름:{name} - 속성:{p_type}')"
   ]
  },
  {
   "cell_type": "markdown",
   "metadata": {},
   "source": [
    "### 7. 함수에서 위치인자와 키워드인자의 차이점에 대해 서술하시오.\n",
    "\n",
    "위치인자는 지정된 위치에 따라 값이 할당되는 것을 말하고 키워드 인자는 변수의 이름과 값을 값을 같이 표현해서 값을 할당하는 것을 말한다.\n",
    "\n",
    "```\n",
    "def student(name, age):\n",
    "    pass\n",
    "```\n",
    "\n",
    "라는 함수가 있을 때 \n",
    "`student('Park', 13)`이라고 입력하면 위치인자를 이용해서 값을 할당한 것이 된다. 즉 `name='Park'`, `age=18`로 값이 지정된다. \n",
    "만약 `student(13, 'Park')`이라고 하면 `name= 13`, `age='Park'`으로 값이 지정된다.\n",
    "\n",
    "`student(name='Park', age=13)`, `student(age=13, name='Park')`은 키워드인자 방법을 사용한 것임.\n",
    " 이경우 변수가 무엇인지 알려주었으므로 순서에 상관없이 `name='Park'`, `age=13`으로 값이 지정된다."
   ]
  },
  {
   "cell_type": "markdown",
   "metadata": {},
   "source": [
    "### 8. 클래스와 인스턴스의 다음 사항들에 대해 서술하시오.\n",
    "\n",
    "- 클래스와 인스턴스의 차이점 \n",
    "    - 클래스는 일종의 틀이라고 할 수 있다. 이 틀을 이용하서 실제 값을 가지는 객체를 만든 것이 인스턴스다. \n",
    "    \n",
    "- 클래스의 생성자 함수 이름 \n",
    "    - def __init__(self)\n",
    "    \n",
    "- 클래스의 생성자 함수가 호출되는 시점은? \n",
    "    - 인스턴스가 생성될 때 호출 됨-> 만약 `class Student:` 라는 클래스가 있다면, `Lee = Student()` 라고 Lee라는 인스턴스를 생성하면 이때 `__init__` 가 호출 됨\n",
    "    \n",
    "- 인스턴스 메서드의 `self`매개변수의 의미 \n",
    "    - 메서드를 호출하는 객체 자신을 전달한다는 의미이다. 이렇게 되면 어떤 객체가 메서드를 쓰는지 알 수 있다."
   ]
  },
  {
   "cell_type": "markdown",
   "metadata": {},
   "source": [
    "### 9. `property`를 정의하는 방법에 대해 서술하시오.\n",
    "\n",
    "\n",
    "- `getter`를 만드는 방법에 대해 서술\n",
    "    - @property를 이용, 사용하고 싶은 이름 `<name>`을 이용하여 아래와 같이 만듦, 함수 위에 @property를 붙여줌\n",
    "    ```python\n",
    "    @property\n",
    "    def <name>(self):\n",
    "    return self.__<name>\n",
    "    ```\n",
    "    \n",
    "- `setter`를 만드는 방법에 대해 서술\n",
    "    - @settrer를 이용, 위에서 만든 `def name(self)`의 name을 이용하여 아래와 같이 @<name>.setter을 함수 위에 붙여 사용함\n",
    "    ```python\n",
    "    @<name>.setter\n",
    "    def <name>(self, new_name):\n",
    "    self.__<name> = new_name\n",
    "    ```\n"
   ]
  },
  {
   "cell_type": "markdown",
   "metadata": {},
   "source": [
    "### 10. 아래와 같은 `User`클래스가 있다. 이 클래스를 상속받은 `Student`클래스를 정의하고, 초기화 메서드에서 `name`과 함께`age`라는 매개변수를 추가로 사용해 인스턴스의 `age`속성을 추가로 정의하도록 한다."
   ]
  },
  {
   "cell_type": "code",
   "execution_count": 34,
   "metadata": {},
   "outputs": [],
   "source": [
    "class User:\n",
    "    def __init__(self, name):\n",
    "        self.name = name\n",
    "        \n",
    "\n",
    "class Student(User):\n",
    "    def __init__(self, name, age):        \n",
    "        super().__init__(name, name)\n",
    "        self.age = age"
   ]
  },
  {
   "cell_type": "markdown",
   "metadata": {},
   "source": [
    "### 11. `url`주소로부터 아래 결과를 출력한다.\n",
    "```\n",
    "url = 'http://www.leagueoflegends.co.kr/?m=news&cate=notice'\n",
    "```\n"
   ]
  },
  {
   "cell_type": "code",
   "execution_count": 39,
   "metadata": {},
   "outputs": [],
   "source": [
    "from bs4 import BeautifulSoup\n",
    "import requests\n",
    "\n",
    "url = 'http://www.leagueoflegends.co.kr/?m=news&cate=notice'"
   ]
  },
  {
   "cell_type": "code",
   "execution_count": 42,
   "metadata": {},
   "outputs": [],
   "source": [
    "response = requests.get(url)\n",
    "soup = BeautifulSoup(response.text, 'lxml')"
   ]
  },
  {
   "cell_type": "code",
   "execution_count": 50,
   "metadata": {},
   "outputs": [
    {
     "name": "stdout",
     "output_type": "stream",
     "text": [
      "승리를 쟁취하라\n",
      "10월 14일(일) 금융기관별 결제 서비스 점검 안내\n",
      "대리 게임 등 적발 현황 281차 안내\n",
      "부정행위 프로그램 제재 현황 안내\n",
      "인생챔프 : 큐베 - 나르편\n",
      "임무 기능 장애 현상 안내 (정상화)\n",
      "LCK팀의 Worlds가 오늘 시작됩니다!\n",
      "임무 기능 장애 현상 안내 (정상화)\n",
      "2018 월드 챔피언십 그룹 스테이지 현장 라이엇 스토어 운영 안내\n",
      "10월 10일(수) 서버 점검 및 업데이트 안내 (완료)\n"
     ]
    }
   ],
   "source": [
    "board_list = soup.select_one('tbody').select('tr td.tleft')\n",
    "for b in board_list:\n",
    "    print(b.get_text(strip=True))"
   ]
  },
  {
   "cell_type": "markdown",
   "metadata": {},
   "source": [
    "### 12. `url`주소에 있는 공지사항에 해당하는 `Notice`클래스를 만들고, 크롤링시 공지사항 하나마다 `Notice`클래스 인스턴스를 만들어 `notice_list`리스트에 추가한다."
   ]
  },
  {
   "cell_type": "code",
   "execution_count": 51,
   "metadata": {},
   "outputs": [],
   "source": [
    "class Notice:\n",
    "    def __init__(self, title, date, view):\n",
    "        self.title = title\n",
    "        self.date = date\n",
    "        self.view = view"
   ]
  },
  {
   "cell_type": "code",
   "execution_count": 57,
   "metadata": {},
   "outputs": [],
   "source": [
    "# soup은 11번의 soup을 이용함\n",
    "notice_list =[]\n",
    "\n",
    "board_list = soup.select_one('tbody').select('tr')\n",
    "for notice in board_list:\n",
    "    notice_ele = notice.select('td')\n",
    "    title, date, view = [e.get_text(strip=True) for e in notice_ele] \n",
    "    notice_list.append(Notice(title, date, view))\n"
   ]
  },
  {
   "cell_type": "code",
   "execution_count": 58,
   "metadata": {
    "scrolled": false
   },
   "outputs": [
    {
     "name": "stdout",
     "output_type": "stream",
     "text": [
      "승리를 쟁취하라\n",
      "2018-10-14\n",
      "4,994\n",
      "\n",
      "10월 14일(일) 금융기관별 결제 서비스 점검 안내\n",
      "2018-10-12\n",
      "1,272\n",
      "\n",
      "대리 게임 등 적발 현황 281차 안내\n",
      "2018-10-12\n",
      "2,175\n",
      "\n",
      "부정행위 프로그램 제재 현황 안내\n",
      "2018-10-12\n",
      "924\n",
      "\n",
      "인생챔프 : 큐베 - 나르편\n",
      "2018-10-11\n",
      "1,524\n",
      "\n",
      "임무 기능 장애 현상 안내 (정상화)\n",
      "2018-10-10\n",
      "2,478\n",
      "\n",
      "LCK팀의 Worlds가 오늘 시작됩니다!\n",
      "2018-10-10\n",
      "2,806\n",
      "\n",
      "임무 기능 장애 현상 안내 (정상화)\n",
      "2018-10-09\n",
      "9,653\n",
      "\n",
      "2018 월드 챔피언십 그룹 스테이지 현장 라이엇 스토어 운영 안내\n",
      "2018-10-09\n",
      "3,447\n",
      "\n",
      "10월 10일(수) 서버 점검 및 업데이트 안내 (완료)\n",
      "2018-10-09\n",
      "12,266\n",
      "\n"
     ]
    }
   ],
   "source": [
    "for notice in notice_list:\n",
    "    print(notice.title)\n",
    "    print(notice.date)\n",
    "    print(notice.view)\n",
    "    print()"
   ]
  },
  {
   "cell_type": "markdown",
   "metadata": {},
   "source": [
    "### 13. runserver가 `localhost:8000`에서 입력을 받는 상태로 동작 중일 때, 브라우저에서 `http://localhost:8000/abc/` 라는 URL을 입력하면 어떤 절차를 거쳐 사용자에게 다시 화면을 보여주는지 서술하시오.\n",
    "\n",
    "\n",
    "`http://localhost:8000/abc/` 중 `http://localhost:8000/`를 제외한 `abc/`를 `urls`모듈에서 일치하는 패턴이 있는지 확인한다. 만약 일치하는 패턴이 없다면 `error`를 내보낸다. 일치하는 패턴이 있다면, 지정된 일을 수행하기 위한 모듈/함수를 실행한다. ==> 실행한 결과를 보여주는데 이때 결과는 HTML의 형태로 보여지게 되므로 HTML 형식을 가지는 text 형태를 만들어 반환하고, 이를 HTML을 이용하여 나온 화면을 사용자가 보게 된다.  "
   ]
  },
  {
   "cell_type": "markdown",
   "metadata": {},
   "source": [
    "# 장고모델은 따로 django-stop-out 폴더에서 수행"
   ]
  },
  {
   "cell_type": "code",
   "execution_count": null,
   "metadata": {},
   "outputs": [],
   "source": []
  }
 ],
 "metadata": {
  "kernelspec": {
   "display_name": "Python 3",
   "language": "python",
   "name": "python3"
  },
  "language_info": {
   "codemirror_mode": {
    "name": "ipython",
    "version": 3
   },
   "file_extension": ".py",
   "mimetype": "text/x-python",
   "name": "python",
   "nbconvert_exporter": "python",
   "pygments_lexer": "ipython3",
   "version": "3.6.6"
  }
 },
 "nbformat": 4,
 "nbformat_minor": 2
}
